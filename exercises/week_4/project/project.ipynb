{
 "cells": [
  {
   "cell_type": "code",
   "execution_count": 1,
   "id": "e4fd0fee",
   "metadata": {},
   "outputs": [],
   "source": [
    "import numpy as np\n",
    "from matplotlib import pyplot as plt\n",
    "\n",
    "import numpy as np\n",
    "import cv2\n",
    "import glob\n",
    "import os\n",
    "import random\n"
   ]
  },
  {
   "cell_type": "code",
   "execution_count": 2,
   "id": "05f65ed7",
   "metadata": {},
   "outputs": [],
   "source": [
    "\"\"\"\n",
    "Implement the number of vertical and horizontal corners\n",
    "nb_vertical = ...\n",
    "nb_horizontal = ...\n",
    "\"\"\"\n",
    "nb_vertical = 6\n",
    "nb_horizontal = 9\n",
    "# prepare object points, like (0,0,0), (1,0,0), (2,0,0) ....,(6,5,0)\n",
    "objp = np.zeros((nb_horizontal*nb_vertical,3), np.float32)\n",
    "objp[:,:2] = np.mgrid[0:nb_vertical,0:nb_horizontal].T.reshape(-1,2)\n",
    "\n",
    "# Arrays to store object points and image points from all the images.\n",
    "objpoints = [] # 3d point in real world space\n",
    "imgpoints = [] # 2d points in image plane.\n",
    "\n",
    "images = glob.glob('rs/*.png')\n",
    "assert images\n",
    "\n",
    "# Choose only 20 random images to process\n",
    "images = random.sample(images, min(20, len(images)))\n",
    "\n",
    "for fname in images:\n",
    "    img = cv2.imread(fname)\n",
    "    gray = cv2.cvtColor(img, cv2.COLOR_BGR2GRAY)\n",
    "\n",
    "    \"\"\"\n",
    "    Implement findChessboardCorners here\n",
    "    ret, corners = ...\n",
    "    \"\"\"\n",
    "    ret, corners = cv2.findChessboardCorners(gray, (nb_vertical,nb_horizontal), None)\n",
    "\n",
    "    # If found, add object points, image points (after refining them)\n",
    "    if ret == True:\n",
    "        objpoints.append(objp)\n",
    "\n",
    "        imgpoints.append(corners)\n",
    "\n",
    "        # Draw and display the corners\n",
    "        img = cv2.drawChessboardCorners(img, (nb_vertical,nb_horizontal), corners,ret)\n",
    "        cv2.imshow('img',img)\n",
    "        cv2.waitKey(250)\n",
    "\n",
    "cv2.destroyAllWindows()"
   ]
  },
  {
   "cell_type": "code",
   "execution_count": 3,
   "id": "1f6a636d",
   "metadata": {},
   "outputs": [],
   "source": [
    "ret, mtx, dist, rvecs, tvecs = cv2.calibrateCamera(objpoints, imgpoints, gray.shape[::-1], None, None)\n",
    "img = cv2.imread('rs/left-0001.png')\n",
    "h,  w = img.shape[:2]\n",
    "newcameramtx, roi = cv2.getOptimalNewCameraMatrix(mtx,dist,(w,h),1,(w,h))"
   ]
  },
  {
   "cell_type": "code",
   "execution_count": 4,
   "id": "fc5e67d9",
   "metadata": {},
   "outputs": [],
   "source": [
    "# the stereo images are named left-00XX.png and right-00XX.png\n",
    "# select 20 random pairs for calibration\n",
    "left_images = glob.glob('rs/left-*.png')\n",
    "right_images = glob.glob('rs/right-*.png')\n",
    "assert left_images and right_images\n",
    "\n",
    "# select 20 random pairs for calibration\n",
    "left_images = random.sample(left_images, min(20, len(left_images)))\n",
    "right_images = random.sample(right_images, min(20, len(right_images)))\n",
    "\n",
    "#undistort and crop and store into arrays\n",
    "left_undistorted = []\n",
    "right_undistorted = []\n",
    "for fname in left_images:\n",
    "    img = cv2.imread(fname)\n",
    "    dst = cv2.undistort(img, mtx, dist, None, newcameramtx)\n",
    "    # crop the image\n",
    "    x,y,w,h = roi\n",
    "    dst = dst[y:y+h, x:x+w]\n",
    "    left_undistorted.append(dst)\n",
    "    #cv2.imwrite('calibresult.png',dst)\n",
    "    cv2.imshow('calibresult',dst)\n",
    "    cv2.waitKey(250)\n",
    "for fname in right_images:\n",
    "    img = cv2.imread(fname)\n",
    "    dst = cv2.undistort(img, mtx, dist, None, newcameramtx)\n",
    "    # crop the image\n",
    "    x,y,w,h = roi\n",
    "    dst = dst[y:y+h, x:x+w]\n",
    "    right_undistorted.append(dst)\n",
    "    #cv2.imwrite('calibresult.png',dst)\n",
    "    cv2.imshow('calibresult',dst)\n",
    "    cv2.waitKey(250)\n",
    "#cv2.destroyAllWindows()"
   ]
  },
  {
   "cell_type": "code",
   "execution_count": null,
   "id": "f38762b4",
   "metadata": {},
   "outputs": [],
   "source": []
  }
 ],
 "metadata": {
  "kernelspec": {
   "display_name": "pfas",
   "language": "python",
   "name": "python3"
  },
  "language_info": {
   "codemirror_mode": {
    "name": "ipython",
    "version": 3
   },
   "file_extension": ".py",
   "mimetype": "text/x-python",
   "name": "python",
   "nbconvert_exporter": "python",
   "pygments_lexer": "ipython3",
   "version": "3.10.18"
  }
 },
 "nbformat": 4,
 "nbformat_minor": 5
}
