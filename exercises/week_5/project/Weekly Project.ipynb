{
 "cells": [
  {
   "attachments": {},
   "cell_type": "markdown",
   "metadata": {},
   "source": [
    "# Weekly Project 5 \n",
    "## Implementation of global registration \n",
    "### Task 1\n",
    "Today, your task is to implement a global registration algorithm.\n",
    "\n",
    "It should be able to roughly align two point clouds.\n",
    "Implement the global registration, and then try the following:\n",
    "\n",
    "1. Can you fit `r1.pcd` and `r2.pcd`?\n",
    "2. Can you fit `car1.ply` and `car2.ply`?\n",
    "The corresponding files are in the `global_registration` folder."
   ]
  },
  {
   "cell_type": "code",
   "execution_count": 1,
   "metadata": {},
   "outputs": [
    {
     "name": "stdout",
     "output_type": "stream",
     "text": [
      "Jupyter environment detected. Enabling Open3D WebVisualizer.\n",
      "[Open3D INFO] WebRTC GUI backend enabled.\n",
      "[Open3D INFO] WebRTCWindowSystem: HTTP handshake server disabled.\n"
     ]
    }
   ],
   "source": [
    "import open3d as o3d\n",
    "import numpy as np\n",
    "import matplotlib.pyplot as plt"
   ]
  },
  {
   "cell_type": "code",
   "execution_count": 2,
   "metadata": {},
   "outputs": [],
   "source": [
    "# implement Fast Point Feature Histograms without using compute_fpfh_feature\n",
    "def compute_fpfh_feature_custom(pcd, radius_normal=0.05, radius_feature=0.1):\n",
    "    pcd.estimate_normals(\n",
    "        o3d.geometry.KDTreeSearchParamHybrid(radius=radius_normal, max_nn=30))\n",
    "    points = np.asarray(pcd.points)\n",
    "    normals = np.asarray(pcd.normals)\n",
    "    kdtree = o3d.geometry.KDTreeFlann(pcd)\n",
    "\n",
    "    n_points = len(points)\n",
    "    fpfh_features = np.zeros((n_points, 33))\n",
    "\n",
    "    for i in range(n_points):\n",
    "        [_, idx, _] = kdtree.search_radius_vector_3d(pcd.points[i], radius_feature)\n",
    "        if len(idx) < 5:\n",
    "            continue\n",
    "        u = normals[i]\n",
    "        v = np.cross(u, np.array([1, 0, 0]))\n",
    "        if np.linalg.norm(v) < 1e-6:\n",
    "            v = np.cross(u, np.array([0, 1, 0]))\n",
    "        v /= np.linalg.norm(v)\n",
    "        w = np.cross(u, v)\n",
    "\n",
    "        hist = np.zeros(33)\n",
    "        for j in idx:\n",
    "            if j == i:\n",
    "                continue\n",
    "            diff = points[j] - points[i]\n",
    "            diff /= np.linalg.norm(diff)\n",
    "            alpha = np.dot(v, normals[j])\n",
    "            phi = np.dot(u, diff)\n",
    "            theta = np.arctan2(np.dot(w, normals[j]), np.dot(u, normals[j]))\n",
    "\n",
    "            alpha_bin = int((alpha + 1) / 2 * 11)\n",
    "            phi_bin = int((phi + 1) / 2 * 11)\n",
    "            theta_bin = int((theta + np.pi) / (2 * np.pi) * 11)\n",
    "\n",
    "            alpha_bin = min(max(alpha_bin, 0), 10)\n",
    "            phi_bin = min(max(phi_bin, 0), 10)\n",
    "            theta_bin = min(max(theta_bin, 0), 10)\n",
    "\n",
    "            hist[alpha_bin] += 1\n",
    "            hist[11 + phi_bin] += 1\n",
    "            hist[22 + theta_bin] += 1\n",
    "\n",
    "        hist /= np.linalg.norm(hist) + 1e-6\n",
    "        fpfh_features[i] = hist\n",
    "\n",
    "    fpfh_o3d = o3d.pipelines.registration.Feature()\n",
    "    fpfh_o3d.data = fpfh_features.T\n",
    "    return fpfh_o3d"
   ]
  },
  {
   "cell_type": "markdown",
   "metadata": {},
   "source": [
    "\n",
    "### Task 2 (Challange)\n",
    "Challanges attempt either or both:\n",
    "- Implement local registration.\n",
    "\n",
    "- Attempt to reconstruct the car from the images in `car_challange` folder.\n",
    "\n",
    "You can use the notebooks from Monday as a starting point."
   ]
  },
  {
   "cell_type": "markdown",
   "metadata": {},
   "source": []
  }
 ],
 "metadata": {
  "kernelspec": {
   "display_name": "pfas",
   "language": "python",
   "name": "python3"
  },
  "language_info": {
   "codemirror_mode": {
    "name": "ipython",
    "version": 3
   },
   "file_extension": ".py",
   "mimetype": "text/x-python",
   "name": "python",
   "nbconvert_exporter": "python",
   "pygments_lexer": "ipython3",
   "version": "3.10.18"
  }
 },
 "nbformat": 4,
 "nbformat_minor": 4
}
