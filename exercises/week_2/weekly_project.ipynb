{
 "cells": [
  {
   "cell_type": "code",
   "execution_count": 16,
   "id": "8b33a8b4",
   "metadata": {},
   "outputs": [],
   "source": [
    "import cv2\n",
    "import numpy as np\n",
    "from matplotlib import pyplot as plt "
   ]
  },
  {
   "cell_type": "code",
   "execution_count": 17,
   "id": "541f531e",
   "metadata": {},
   "outputs": [],
   "source": [
    "cap = cv2.VideoCapture('Robots.mp4')    "
   ]
  },
  {
   "cell_type": "code",
   "execution_count": 18,
   "id": "a797469a",
   "metadata": {},
   "outputs": [
    {
     "name": "stdout",
     "output_type": "stream",
     "text": [
      "Select a ROI and then press SPACE or ENTER button!\n",
      "Cancel the selection process by pressing c button!\n"
     ]
    }
   ],
   "source": [
    "# Read first frame\n",
    "ret, frame = cap.read()\n",
    "if not ret:\n",
    "    print(\"Failed to read video\")\n",
    "    exit()\n",
    "\n",
    "# Resize first frame\n",
    "frame_small = cv2.resize(frame, None, fx=0.5, fy=0.5, interpolation=cv2.INTER_AREA)\n",
    "\n",
    "# Select ROI (on resized frame)\n",
    "roi = cv2.selectROI(\"Select Object\", frame_small, fromCenter=False, showCrosshair=True)\n",
    "x, y, w, h = roi\n",
    "cv2.destroyWindow(\"Select Object\")\n",
    "\n",
    "# Convert to grayscale\n",
    "old_gray = cv2.cvtColor(frame_small, cv2.COLOR_BGR2GRAY)\n",
    "\n",
    "# Detect feature points in ROI\n",
    "mask = np.zeros_like(old_gray)\n",
    "mask[y:y+h, x:x+w] = 255\n",
    "p0 = cv2.goodFeaturesToTrack(old_gray, mask=mask, maxCorners=100, qualityLevel=0.3, minDistance=7)\n",
    "\n",
    "# Lucas-Kanade parameters\n",
    "lk_params = dict(winSize=(15, 15), maxLevel=2,\n",
    "                 criteria=(cv2.TERM_CRITERIA_EPS | cv2.TERM_CRITERIA_COUNT, 10, 0.03))\n",
    "\n",
    "# Random colors for feature tracks\n",
    "color = np.random.randint(0, 255, (100, 3))\n",
    "mask_draw = np.zeros_like(frame_small)\n",
    "\n",
    "# Loop\n",
    "ret = True\n",
    "while ret:\n",
    "    ret, frame = cap.read()\n",
    "    if not ret:\n",
    "        break\n",
    "\n",
    "    # Resize frame\n",
    "    frame_small = cv2.resize(frame, None, fx=0.5, fy=0.5, interpolation=cv2.INTER_AREA)\n",
    "    frame_gray = cv2.cvtColor(frame_small, cv2.COLOR_BGR2GRAY)\n",
    "\n",
    "    # Optical flow\n",
    "    if p0 is not None:\n",
    "        p1, st, err = cv2.calcOpticalFlowPyrLK(old_gray, frame_gray, p0, None, **lk_params)\n",
    "\n",
    "        if p1 is not None:\n",
    "            good_new = p1[st == 1]\n",
    "            good_old = p0[st == 1]\n",
    "\n",
    "            # Draw tracks\n",
    "            for i, (new, old) in enumerate(zip(good_new, good_old)):\n",
    "                a, b = new.ravel()\n",
    "                c, d = old.ravel()\n",
    "                a, b, c, d = int(a), int(b), int(c), int(d)  # <-- cast to int\n",
    "                mask_draw = cv2.line(mask_draw, (a, b), (c, d), color[i].tolist(), 2)\n",
    "                frame_small = cv2.circle(frame_small, (a, b), 4, color[i].tolist(), -1)\n",
    "\n",
    "\n",
    "            # Update bounding box around tracked points\n",
    "            if len(good_new) > 0:\n",
    "                x_min, y_min = np.min(good_new, axis=0).astype(int)\n",
    "                x_max, y_max = np.max(good_new, axis=0).astype(int)\n",
    "                frame_small = cv2.rectangle(frame_small, (x_min, y_min), (x_max, y_max), (0, 255, 0), 2)\n",
    "\n",
    "\n",
    "            # Update points\n",
    "            p0 = good_new.reshape(-1, 1, 2)\n",
    "\n",
    "    # Update reference frame\n",
    "    old_gray = frame_gray.copy()\n",
    "\n",
    "    # Show result\n",
    "    img = cv2.add(frame_small, mask_draw)\n",
    "    cv2.imshow(\"image\", img)\n",
    "\n",
    "    if cv2.waitKey(20) & 0xFF == 27:  # press ESC to exit\n",
    "        break\n",
    "\n",
    "cap.release()\n",
    "cv2.destroyAllWindows()\n"
   ]
  }
 ],
 "metadata": {
  "kernelspec": {
   "display_name": "pfas",
   "language": "python",
   "name": "python3"
  },
  "language_info": {
   "codemirror_mode": {
    "name": "ipython",
    "version": 3
   },
   "file_extension": ".py",
   "mimetype": "text/x-python",
   "name": "python",
   "nbconvert_exporter": "python",
   "pygments_lexer": "ipython3",
   "version": "3.10.18"
  }
 },
 "nbformat": 4,
 "nbformat_minor": 5
}
